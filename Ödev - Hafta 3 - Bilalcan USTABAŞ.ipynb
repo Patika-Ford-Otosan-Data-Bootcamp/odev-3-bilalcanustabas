{
 "cells": [
  {
   "cell_type": "markdown",
   "id": "765ea270-8a56-4029-a27e-bb88de0b8b80",
   "metadata": {},
   "source": [
    "# **ÖDEV-3**"
   ]
  },
  {
   "cell_type": "markdown",
   "id": "16ead5b7-7f6f-46f4-825f-28fb0c511193",
   "metadata": {},
   "source": [
    "1- Persona.csv verisini kullanarak EDA (Exploratory data analysis) yapın."
   ]
  },
  {
   "cell_type": "code",
   "execution_count": 1,
   "id": "2d914cb2",
   "metadata": {},
   "outputs": [],
   "source": [
    "import pandas as pd\n",
    "import numpy as np\n",
    "import seaborn as sns\n",
    "from matplotlib import pyplot as plt"
   ]
  },
  {
   "cell_type": "code",
   "execution_count": 2,
   "id": "56044219",
   "metadata": {},
   "outputs": [],
   "source": [
    "pd.set_option('display.max_columns', None)\n",
    "pd.set_option('display.max_rows', None)\n",
    "pd.set_option('display.width', 170)"
   ]
  },
  {
   "cell_type": "code",
   "execution_count": 3,
   "id": "ed8e63f5",
   "metadata": {},
   "outputs": [],
   "source": [
    "df = pd.read_csv(\"persona.csv\")"
   ]
  },
  {
   "cell_type": "code",
   "execution_count": 4,
   "id": "346c3c72",
   "metadata": {},
   "outputs": [
    {
     "data": {
      "text/html": [
       "<div>\n",
       "<style scoped>\n",
       "    .dataframe tbody tr th:only-of-type {\n",
       "        vertical-align: middle;\n",
       "    }\n",
       "\n",
       "    .dataframe tbody tr th {\n",
       "        vertical-align: top;\n",
       "    }\n",
       "\n",
       "    .dataframe thead th {\n",
       "        text-align: right;\n",
       "    }\n",
       "</style>\n",
       "<table border=\"1\" class=\"dataframe\">\n",
       "  <thead>\n",
       "    <tr style=\"text-align: right;\">\n",
       "      <th></th>\n",
       "      <th>PRICE</th>\n",
       "      <th>SOURCE</th>\n",
       "      <th>SEX</th>\n",
       "      <th>COUNTRY</th>\n",
       "      <th>AGE</th>\n",
       "    </tr>\n",
       "  </thead>\n",
       "  <tbody>\n",
       "    <tr>\n",
       "      <th>0</th>\n",
       "      <td>39</td>\n",
       "      <td>android</td>\n",
       "      <td>male</td>\n",
       "      <td>bra</td>\n",
       "      <td>17</td>\n",
       "    </tr>\n",
       "    <tr>\n",
       "      <th>1</th>\n",
       "      <td>39</td>\n",
       "      <td>android</td>\n",
       "      <td>male</td>\n",
       "      <td>bra</td>\n",
       "      <td>17</td>\n",
       "    </tr>\n",
       "    <tr>\n",
       "      <th>2</th>\n",
       "      <td>49</td>\n",
       "      <td>android</td>\n",
       "      <td>male</td>\n",
       "      <td>bra</td>\n",
       "      <td>17</td>\n",
       "    </tr>\n",
       "    <tr>\n",
       "      <th>3</th>\n",
       "      <td>29</td>\n",
       "      <td>android</td>\n",
       "      <td>male</td>\n",
       "      <td>tur</td>\n",
       "      <td>17</td>\n",
       "    </tr>\n",
       "    <tr>\n",
       "      <th>4</th>\n",
       "      <td>49</td>\n",
       "      <td>android</td>\n",
       "      <td>male</td>\n",
       "      <td>tur</td>\n",
       "      <td>17</td>\n",
       "    </tr>\n",
       "  </tbody>\n",
       "</table>\n",
       "</div>"
      ],
      "text/plain": [
       "   PRICE   SOURCE   SEX COUNTRY  AGE\n",
       "0     39  android  male     bra   17\n",
       "1     39  android  male     bra   17\n",
       "2     49  android  male     bra   17\n",
       "3     29  android  male     tur   17\n",
       "4     49  android  male     tur   17"
      ]
     },
     "execution_count": 4,
     "metadata": {},
     "output_type": "execute_result"
    }
   ],
   "source": [
    "df.head()"
   ]
  },
  {
   "cell_type": "code",
   "execution_count": 5,
   "id": "7ec03349",
   "metadata": {},
   "outputs": [
    {
     "data": {
      "text/html": [
       "<div>\n",
       "<style scoped>\n",
       "    .dataframe tbody tr th:only-of-type {\n",
       "        vertical-align: middle;\n",
       "    }\n",
       "\n",
       "    .dataframe tbody tr th {\n",
       "        vertical-align: top;\n",
       "    }\n",
       "\n",
       "    .dataframe thead th {\n",
       "        text-align: right;\n",
       "    }\n",
       "</style>\n",
       "<table border=\"1\" class=\"dataframe\">\n",
       "  <thead>\n",
       "    <tr style=\"text-align: right;\">\n",
       "      <th></th>\n",
       "      <th>PRICE</th>\n",
       "      <th>SOURCE</th>\n",
       "      <th>SEX</th>\n",
       "      <th>COUNTRY</th>\n",
       "      <th>AGE</th>\n",
       "    </tr>\n",
       "  </thead>\n",
       "  <tbody>\n",
       "    <tr>\n",
       "      <th>4995</th>\n",
       "      <td>29</td>\n",
       "      <td>android</td>\n",
       "      <td>female</td>\n",
       "      <td>bra</td>\n",
       "      <td>31</td>\n",
       "    </tr>\n",
       "    <tr>\n",
       "      <th>4996</th>\n",
       "      <td>29</td>\n",
       "      <td>android</td>\n",
       "      <td>female</td>\n",
       "      <td>bra</td>\n",
       "      <td>31</td>\n",
       "    </tr>\n",
       "    <tr>\n",
       "      <th>4997</th>\n",
       "      <td>29</td>\n",
       "      <td>android</td>\n",
       "      <td>female</td>\n",
       "      <td>bra</td>\n",
       "      <td>31</td>\n",
       "    </tr>\n",
       "    <tr>\n",
       "      <th>4998</th>\n",
       "      <td>39</td>\n",
       "      <td>android</td>\n",
       "      <td>female</td>\n",
       "      <td>bra</td>\n",
       "      <td>31</td>\n",
       "    </tr>\n",
       "    <tr>\n",
       "      <th>4999</th>\n",
       "      <td>29</td>\n",
       "      <td>android</td>\n",
       "      <td>female</td>\n",
       "      <td>bra</td>\n",
       "      <td>31</td>\n",
       "    </tr>\n",
       "  </tbody>\n",
       "</table>\n",
       "</div>"
      ],
      "text/plain": [
       "      PRICE   SOURCE     SEX COUNTRY  AGE\n",
       "4995     29  android  female     bra   31\n",
       "4996     29  android  female     bra   31\n",
       "4997     29  android  female     bra   31\n",
       "4998     39  android  female     bra   31\n",
       "4999     29  android  female     bra   31"
      ]
     },
     "execution_count": 5,
     "metadata": {},
     "output_type": "execute_result"
    }
   ],
   "source": [
    "df.tail()"
   ]
  },
  {
   "cell_type": "code",
   "execution_count": 6,
   "id": "aa72ddba",
   "metadata": {},
   "outputs": [
    {
     "data": {
      "text/plain": [
       "(5000, 5)"
      ]
     },
     "execution_count": 6,
     "metadata": {},
     "output_type": "execute_result"
    }
   ],
   "source": [
    "df.shape"
   ]
  },
  {
   "cell_type": "code",
   "execution_count": 7,
   "id": "ca2adda7",
   "metadata": {},
   "outputs": [
    {
     "data": {
      "text/plain": [
       "PRICE      0\n",
       "SOURCE     0\n",
       "SEX        0\n",
       "COUNTRY    0\n",
       "AGE        0\n",
       "dtype: int64"
      ]
     },
     "execution_count": 7,
     "metadata": {},
     "output_type": "execute_result"
    }
   ],
   "source": [
    "df.isnull().sum()"
   ]
  },
  {
   "cell_type": "code",
   "execution_count": 8,
   "id": "a7686dfa",
   "metadata": {},
   "outputs": [
    {
     "name": "stdout",
     "output_type": "stream",
     "text": [
      "<class 'pandas.core.frame.DataFrame'>\n",
      "Int64Index: 5000 entries, 0 to 4999\n",
      "Data columns (total 5 columns):\n",
      " #   Column   Non-Null Count  Dtype \n",
      "---  ------   --------------  ----- \n",
      " 0   PRICE    5000 non-null   int64 \n",
      " 1   SOURCE   5000 non-null   object\n",
      " 2   SEX      5000 non-null   object\n",
      " 3   COUNTRY  5000 non-null   object\n",
      " 4   AGE      5000 non-null   int64 \n",
      "dtypes: int64(2), object(3)\n",
      "memory usage: 234.4+ KB\n"
     ]
    }
   ],
   "source": [
    "df.info()"
   ]
  },
  {
   "cell_type": "markdown",
   "id": "a5577260-edfa-4574-8a8b-0f6bc6ffa15b",
   "metadata": {},
   "source": [
    "2-Persona.csv verisini kullanarak Kategorik ve Numerik Değişkenleri belirleyin."
   ]
  },
  {
   "cell_type": "code",
   "execution_count": 9,
   "id": "8998e260",
   "metadata": {},
   "outputs": [
    {
     "name": "stdout",
     "output_type": "stream",
     "text": [
      "type PRICE is int64\n",
      "type SOURCE is object\n",
      "type SEX is object\n",
      "type COUNTRY is object\n",
      "type AGE is int64\n"
     ]
    }
   ],
   "source": [
    "for col in df.columns:\n",
    "    print(\"type\", col, \"is\", df[col].dtype)"
   ]
  },
  {
   "cell_type": "code",
   "execution_count": 10,
   "id": "8f166f3e",
   "metadata": {},
   "outputs": [
    {
     "name": "stdout",
     "output_type": "stream",
     "text": [
      "2\n",
      "['android' 'ios']\n",
      "android    2974\n",
      "ios        2026\n",
      "Name: SOURCE, dtype: int64\n"
     ]
    }
   ],
   "source": [
    "print(df[\"SOURCE\"].nunique())\n",
    "print(df[\"SOURCE\"].unique())\n",
    "print(df[\"SOURCE\"].value_counts())"
   ]
  },
  {
   "cell_type": "code",
   "execution_count": 11,
   "id": "ec35f7f3",
   "metadata": {},
   "outputs": [
    {
     "name": "stdout",
     "output_type": "stream",
     "text": [
      "2\n",
      "['male' 'female']\n",
      "female    2621\n",
      "male      2379\n",
      "Name: SEX, dtype: int64\n"
     ]
    }
   ],
   "source": [
    "print(df[\"SEX\"].nunique())\n",
    "print(df[\"SEX\"].unique())\n",
    "print(df[\"SEX\"].value_counts())"
   ]
  },
  {
   "cell_type": "code",
   "execution_count": 12,
   "id": "fdcd0be9",
   "metadata": {},
   "outputs": [
    {
     "name": "stdout",
     "output_type": "stream",
     "text": [
      "6\n",
      "['bra' 'tur' 'usa' 'can' 'deu' 'fra']\n",
      "usa    2065\n",
      "bra    1496\n",
      "deu     455\n",
      "tur     451\n",
      "fra     303\n",
      "can     230\n",
      "Name: COUNTRY, dtype: int64\n"
     ]
    }
   ],
   "source": [
    "print(df[\"COUNTRY\"].nunique())\n",
    "print(df[\"COUNTRY\"].unique())\n",
    "print(df[\"COUNTRY\"].value_counts())"
   ]
  },
  {
   "cell_type": "code",
   "execution_count": 13,
   "id": "1849b691",
   "metadata": {},
   "outputs": [
    {
     "data": {
      "text/html": [
       "<div>\n",
       "<style scoped>\n",
       "    .dataframe tbody tr th:only-of-type {\n",
       "        vertical-align: middle;\n",
       "    }\n",
       "\n",
       "    .dataframe tbody tr th {\n",
       "        vertical-align: top;\n",
       "    }\n",
       "\n",
       "    .dataframe thead th {\n",
       "        text-align: right;\n",
       "    }\n",
       "</style>\n",
       "<table border=\"1\" class=\"dataframe\">\n",
       "  <thead>\n",
       "    <tr style=\"text-align: right;\">\n",
       "      <th></th>\n",
       "      <th>count</th>\n",
       "      <th>mean</th>\n",
       "      <th>std</th>\n",
       "      <th>min</th>\n",
       "      <th>5%</th>\n",
       "      <th>10%</th>\n",
       "      <th>25%</th>\n",
       "      <th>50%</th>\n",
       "      <th>75%</th>\n",
       "      <th>80%</th>\n",
       "      <th>90%</th>\n",
       "      <th>95%</th>\n",
       "      <th>99%</th>\n",
       "      <th>max</th>\n",
       "    </tr>\n",
       "  </thead>\n",
       "  <tbody>\n",
       "    <tr>\n",
       "      <th>PRICE</th>\n",
       "      <td>5000.0</td>\n",
       "      <td>34.1320</td>\n",
       "      <td>12.464897</td>\n",
       "      <td>9.0</td>\n",
       "      <td>19.0</td>\n",
       "      <td>19.0</td>\n",
       "      <td>29.0</td>\n",
       "      <td>39.0</td>\n",
       "      <td>39.0</td>\n",
       "      <td>49.0</td>\n",
       "      <td>49.0</td>\n",
       "      <td>49.0</td>\n",
       "      <td>59.0</td>\n",
       "      <td>59.0</td>\n",
       "    </tr>\n",
       "    <tr>\n",
       "      <th>AGE</th>\n",
       "      <td>5000.0</td>\n",
       "      <td>23.5814</td>\n",
       "      <td>8.995908</td>\n",
       "      <td>15.0</td>\n",
       "      <td>15.0</td>\n",
       "      <td>15.0</td>\n",
       "      <td>17.0</td>\n",
       "      <td>21.0</td>\n",
       "      <td>27.0</td>\n",
       "      <td>30.0</td>\n",
       "      <td>36.0</td>\n",
       "      <td>43.0</td>\n",
       "      <td>53.0</td>\n",
       "      <td>66.0</td>\n",
       "    </tr>\n",
       "  </tbody>\n",
       "</table>\n",
       "</div>"
      ],
      "text/plain": [
       "        count     mean        std   min    5%   10%   25%   50%   75%   80%   90%   95%   99%   max\n",
       "PRICE  5000.0  34.1320  12.464897   9.0  19.0  19.0  29.0  39.0  39.0  49.0  49.0  49.0  59.0  59.0\n",
       "AGE    5000.0  23.5814   8.995908  15.0  15.0  15.0  17.0  21.0  27.0  30.0  36.0  43.0  53.0  66.0"
      ]
     },
     "execution_count": 13,
     "metadata": {},
     "output_type": "execute_result"
    }
   ],
   "source": [
    "df[[\"PRICE\", \"AGE\"]].describe([0.05, 0.10, 0.25, 0.50, 0.75, 0.80, 0.90, 0.95, 0.99]).T"
   ]
  },
  {
   "cell_type": "markdown",
   "id": "05787dcd-3f11-499d-9939-a741eecaf0b5",
   "metadata": {},
   "source": [
    "3-Persona.csv verisini kullanarak Kategorik ve Numerik Değişkenleri analiz edin. Yorumda bulunun."
   ]
  },
  {
   "cell_type": "code",
   "execution_count": 14,
   "id": "d9e21c79",
   "metadata": {},
   "outputs": [
    {
     "name": "stdout",
     "output_type": "stream",
     "text": [
      "Çoğunluk android kullanıyor\n"
     ]
    },
    {
     "data": {
      "image/png": "[encoded data removed]",
      "text/plain": [
       "<Figure size 432x288 with 1 Axes>"
      ]
     },
     "metadata": {
      "needs_background": "light"
     },
     "output_type": "display_data"
    },
    {
     "name": "stdout",
     "output_type": "stream",
     "text": [
      "Cinsiyette dengeli bir dağılım görüyoruz\n"
     ]
    },
    {
     "data": {
      "image/png": "[encoded data removed]",
      "text/plain": [
       "<Figure size 432x288 with 1 Axes>"
      ]
     },
     "metadata": {
      "needs_background": "light"
     },
     "output_type": "display_data"
    },
    {
     "name": "stdout",
     "output_type": "stream",
     "text": [
      "Kullanıcıların yüzde 41'i USA tarafında\n",
      "USA yüzdesi: %41.3\n"
     ]
    },
    {
     "data": {
      "image/png": "[encoded data removed]",
      "text/plain": [
       "<Figure size 432x288 with 1 Axes>"
      ]
     },
     "metadata": {
      "needs_background": "light"
     },
     "output_type": "display_data"
    }
   ],
   "source": [
    "print(\"Çoğunluk android kullanıyor\")\n",
    "ax = sns.countplot(x=df[\"SOURCE\"], data=df)\n",
    "ax.bar_label(ax.containers[0])\n",
    "plt.show(ax)\n",
    "\n",
    "print(\"Cinsiyette dengeli bir dağılım görüyoruz\")\n",
    "ax = sns.countplot(x=df[\"SEX\"], data=df)\n",
    "ax.bar_label(ax.containers[0])\n",
    "plt.show(ax)\n",
    "\n",
    "print(\"Kullanıcıların yüzde 41'i USA tarafında\")\n",
    "print(\"USA yüzdesi: %\" + str((100*df[\"COUNTRY\"].value_counts()[\"usa\"])/len(df)))\n",
    "ax = sns.countplot(x=df[\"COUNTRY\"], data=df)\n",
    "ax.bar_label(ax.containers[0])\n",
    "plt.show(ax)"
   ]
  },
  {
   "cell_type": "code",
   "execution_count": 15,
   "id": "0d2bde28",
   "metadata": {},
   "outputs": [
    {
     "name": "stdout",
     "output_type": "stream",
     "text": [
      "PRICE'ın histogram grafiğinde normal dağılıma yakın güzel bir grafik elde edinilmiş ama PRICE değişkeninde \n",
      "belli sayılarda değer almış bu da grafiği aşağıdaki gibi aralıklı kılmış yani bu değişken sürekli değil. \n",
      "Doğal olarak da yoğunluklar PRICE'ın alabildiği belli değerlerin olduğu yerde toplanmış durumda.\n"
     ]
    },
    {
     "data": {
      "image/png": "[encoded data removed]",
      "text/plain": [
       "<Figure size 360x360 with 1 Axes>"
      ]
     },
     "metadata": {
      "needs_background": "light"
     },
     "output_type": "display_data"
    },
    {
     "name": "stdout",
     "output_type": "stream",
     "text": [
      "AGE'in histogramına baktığımız zaman sol tarafında bir yığılım görüyoruz bu yığılımda değişkenin \n",
      "medyanının ve ortalamasının sol tarafa yakın olduğunu anlayabiliriz, en sağ uçtaki değerler de \n",
      "aykırı değerler olabilir\n"
     ]
    },
    {
     "data": {
      "image/png": "[encoded data removed]",
      "text/plain": [
       "<Figure size 360x360 with 1 Axes>"
      ]
     },
     "metadata": {
      "needs_background": "light"
     },
     "output_type": "display_data"
    },
    {
     "name": "stdout",
     "output_type": "stream",
     "text": [
      "PRICE'ın boxplotunda verilerin cogunluk kısmı 20 ile 50 arasında bulunuyor ama değişkende PRICE'ların \n",
      "belli sayılarda değer almış olması boxplotun dışında kalan verilerin sadece sağda ve solda birer nokta \n",
      "olarak kalmasına sebebiyet veriyor. 10 ve 60 civarında PRICE değerleri aykırı diyebiliriz.\n"
     ]
    },
    {
     "data": {
      "image/png": "[encoded data removed]",
      "text/plain": [
       "<Figure size 432x288 with 1 Axes>"
      ]
     },
     "metadata": {
      "needs_background": "light"
     },
     "output_type": "display_data"
    },
    {
     "name": "stdout",
     "output_type": "stream",
     "text": [
      "AGE'in histogramına bakarken dediğimiz gibi yaklaşık 45'ten büyük değerlerin aykırı olduğunu görüyoruz \n",
      "Ayrıca histogramda da anladığımız gibi yoğunluk ve değerlerin büyük çoğunluğu sol tarafta bulunuyor\n"
     ]
    },
    {
     "data": {
      "image/png": "[encoded data removed]",
      "text/plain": [
       "<Figure size 432x288 with 1 Axes>"
      ]
     },
     "metadata": {
      "needs_background": "light"
     },
     "output_type": "display_data"
    }
   ],
   "source": [
    "print(\"PRICE'ın histogram grafiğinde normal dağılıma yakın güzel bir grafik elde edinilmiş ama PRICE değişkeninde \\n\"\n",
    "       \"belli sayılarda değer almış bu da grafiği aşağıdaki gibi aralıklı kılmış yani bu değişken sürekli değil. \\n\"\n",
    "       \"Doğal olarak da yoğunluklar PRICE'ın alabildiği belli değerlerin olduğu yerde toplanmış durumda.\")\n",
    "sns.displot(df[\"PRICE\"], bins=20, kde=True)\n",
    "plt.show()\n",
    "\n",
    "print(\"AGE'in histogramına baktığımız zaman sol tarafında bir yığılım görüyoruz bu yığılımda değişkenin \\n\"\n",
    "       \"medyanının ve ortalamasının sol tarafa yakın olduğunu anlayabiliriz, en sağ uçtaki değerler de \\n\"\n",
    "       \"aykırı değerler olabilir\")\n",
    "sns.displot(df[\"AGE\"], bins=70, kde=True)\n",
    "plt.show()\n",
    "\n",
    "print(\"PRICE'ın boxplotunda verilerin cogunluk kısmı 20 ile 50 arasında bulunuyor ama değişkende PRICE'ların \\n\"\n",
    "       \"belli sayılarda değer almış olması boxplotun dışında kalan verilerin sadece sağda ve solda birer nokta \\n\"\n",
    "       \"olarak kalmasına sebebiyet veriyor. 10 ve 60 civarında PRICE değerleri aykırı diyebiliriz.\")\n",
    "sns.boxplot(x=df[\"PRICE\"])\n",
    "plt.show()\n",
    "\n",
    "print(\"AGE'in histogramına bakarken dediğimiz gibi yaklaşık 45'ten büyük değerlerin aykırı olduğunu görüyoruz \\n\"\n",
    "       \"Ayrıca histogramda da anladığımız gibi yoğunluk ve değerlerin büyük çoğunluğu sol tarafta bulunuyor\")\n",
    "sns.boxplot(x=df[\"AGE\"])\n",
    "plt.show()"
   ]
  }
 ],
 "metadata": {
  "kernelspec": {
   "display_name": "Python 3 (ipykernel)",
   "language": "python",
   "name": "python3"
  },
  "language_info": {
   "codemirror_mode": {
    "name": "ipython",
    "version": 3
   },
   "file_extension": ".py",
   "mimetype": "text/x-python",
   "name": "python",
   "nbconvert_exporter": "python",
   "pygments_lexer": "ipython3",
   "version": "3.9.12"
  }
 },
 "nbformat": 4,
 "nbformat_minor": 5
}
